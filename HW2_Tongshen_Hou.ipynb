{
 "cells": [
  {
   "cell_type": "markdown",
   "id": "a5445a1c-c240-41c8-893a-fba94a22d63b",
   "metadata": {
    "tags": []
   },
   "source": [
    "## Q1: Write a program which will find all such numbers which are divisible by 7 but are not a multiple of 5, between 2000 and 3200 (both included). The numbers obtained should be printed in a comma-separated sequence on a single line."
   ]
  },
  {
   "cell_type": "code",
   "execution_count": 3,
   "id": "48621467-9194-4565-8dc2-a632a6f68120",
   "metadata": {},
   "outputs": [
    {
     "name": "stdout",
     "output_type": "stream",
     "text": [
      "2002,2009,2016,2023,2037,2044,2051,2058,2072,2079,2086,2093,2107,2114,2121,2128,2142,2149,2156,2163,2177,2184,2191,2198,2212,2219,2226,2233,2247,2254,2261,2268,2282,2289,2296,2303,2317,2324,2331,2338,2352,2359,2366,2373,2387,2394,2401,2408,2422,2429,2436,2443,2457,2464,2471,2478,2492,2499,2506,2513,2527,2534,2541,2548,2562,2569,2576,2583,2597,2604,2611,2618,2632,2639,2646,2653,2667,2674,2681,2688,2702,2709,2716,2723,2737,2744,2751,2758,2772,2779,2786,2793,2807,2814,2821,2828,2842,2849,2856,2863,2877,2884,2891,2898,2912,2919,2926,2933,2947,2954,2961,2968,2982,2989,2996,3003,3017,3024,3031,3038,3052,3059,3066,3073,3087,3094,3101,3108,3122,3129,3136,3143,3157,3164,3171,3178,3192,3199\n"
     ]
    }
   ],
   "source": [
    "a=[]\n",
    "for i in range(2000,3201):\n",
    "    if i%7==0 and i%5!=0:\n",
    "      a.append(str(i))\n",
    "print(','.join(a))"
   ]
  },
  {
   "cell_type": "markdown",
   "id": "48e6f1c8-dd8c-4c03-a115-c1f649a5e936",
   "metadata": {
    "tags": []
   },
   "source": [
    "## Q2: Write a program which can compute the factorial of a given numbers. The results should be printed in a comma-separated sequence on a single line. Suppose the following input is supplied to the program:"
   ]
  },
  {
   "cell_type": "code",
   "execution_count": 2,
   "id": "4b7d9662-b991-4bdc-923b-6b0611b08726",
   "metadata": {},
   "outputs": [
    {
     "name": "stdin",
     "output_type": "stream",
     "text": [
      " 8\n"
     ]
    },
    {
     "name": "stdout",
     "output_type": "stream",
     "text": [
      "40320\n"
     ]
    }
   ],
   "source": [
    "a=int(input())\n",
    "b=1\n",
    "while a-1>0:\n",
    "    b=b*a\n",
    "    a=a-1\n",
    "    \n",
    "print(b)"
   ]
  },
  {
   "cell_type": "markdown",
   "id": "fb51be13-e072-4aaa-86ad-6f9f58f2b176",
   "metadata": {
    "tags": []
   },
   "source": [
    "## Q3: With a given integral number n, write a program to generate a dictionary that contains (i, i*i) such that is an integral number between 1 and n (both included). and then the program should print the dictionary. Suppose the following input is supplied to the program: 8 Then, the output should be: {1: 1, 2: 4, 3: 9, 4: 16, 5: 25, 6: 36, 7: 49, 8: 64}"
   ]
  },
  {
   "cell_type": "code",
   "execution_count": 12,
   "id": "aaa119b8-7a15-4ac0-8aee-861684cd4952",
   "metadata": {},
   "outputs": [
    {
     "name": "stdin",
     "output_type": "stream",
     "text": [
      " 8\n"
     ]
    },
    {
     "name": "stdout",
     "output_type": "stream",
     "text": [
      "{1: 1, 2: 4, 3: 9, 4: 16, 5: 25, 6: 36, 7: 49, 8: 64}\n"
     ]
    }
   ],
   "source": [
    "a = int(input())\n",
    "b={}\n",
    "\n",
    "for i in range(1, a+1):\n",
    "     b[i]=i*i  \n",
    "        \n",
    "else:\n",
    "    pass\n",
    "\n",
    "print(b)"
   ]
  },
  {
   "cell_type": "markdown",
   "id": "18ca5caf-803c-4aef-bdd0-9dfca827713e",
   "metadata": {
    "tags": []
   },
   "source": [
    "## Q4: Write a program which accepts a sequence of comma-separated numbers from console and generate a list and a tuple which contains every number. Suppose the following input is supplied to the program: 34,67,55,33,12,98 Then, the output should be: ['34', '67', '55', '33', '12', '98'] ('34', '67', '55', '33', '12', '98')"
   ]
  },
  {
   "cell_type": "code",
   "execution_count": 1,
   "id": "9c2e6984-82c6-43bd-bf72-58d0e5ded64f",
   "metadata": {},
   "outputs": [
    {
     "name": "stdin",
     "output_type": "stream",
     "text": [
      " 34,67,55,33,12,98\n"
     ]
    },
    {
     "name": "stdout",
     "output_type": "stream",
     "text": [
      "['34,67,55,33,12,98']\n",
      "('34,67,55,33,12,98',)\n"
     ]
    }
   ],
   "source": [
    "a=input()\n",
    "b=a.split()\n",
    "c=tuple(b)\n",
    "print(b)\n",
    "print(c)"
   ]
  },
  {
   "cell_type": "markdown",
   "id": "af50e049-ce80-4152-afdb-05291da1f954",
   "metadata": {
    "tags": []
   },
   "source": [
    "## Q5: Define a class which has at least two methods: getString: to get a string from console input printString: to print the string in upper case. Also please include simple test function to test the class methods."
   ]
  },
  {
   "cell_type": "code",
   "execution_count": 25,
   "id": "77f5f4e8-8f48-458b-9ca9-4fa9726a5e63",
   "metadata": {},
   "outputs": [
    {
     "name": "stdin",
     "output_type": "stream",
     "text": [
      " Hou\n"
     ]
    },
    {
     "name": "stdout",
     "output_type": "stream",
     "text": [
      "HOU\n"
     ]
    }
   ],
   "source": [
    "class A(object):\n",
    "\n",
    "    def __init__(self):\n",
    "            self.str = \"\"\n",
    "    def uppercase(self):\n",
    "            self.str = input()\n",
    "            print(self.str.upper())\n",
    "            \n",
    "function = A()\n",
    "function.__init__()\n",
    "function.uppercase()\n",
    "        "
   ]
  },
  {
   "cell_type": "markdown",
   "id": "6ec0530b-28dc-47d5-b114-eb4a71b69dce",
   "metadata": {},
   "source": [
    "## Q6: Write a program that calculates and prints the value according to the given formula: Q = Square root of [(2 * C * D)/H] Following are the fixed values of C and H: C is 50. H is 30. D is the variable whose values should be input to your program in a comma-separated sequence. Example Let us assume the following comma separated input sequence is given to the program: 100,150,180 The output of the program should be: 18,22,24"
   ]
  },
  {
   "cell_type": "code",
   "execution_count": 58,
   "id": "73ae7728-8a67-4e81-8ef2-6b6aef06460d",
   "metadata": {},
   "outputs": [
    {
     "name": "stdin",
     "output_type": "stream",
     "text": [
      " 100,150,180\n"
     ]
    },
    {
     "name": "stdout",
     "output_type": "stream",
     "text": [
      "[18, 22, 24]\n"
     ]
    }
   ],
   "source": [
    "import math\n",
    "C = 50\n",
    "H = 30\n",
    "D = input().split(',')\n",
    "A=[]\n",
    "for num in D:\n",
    " E = (2*C*int(num)) / H\n",
    " Formula_Q = math.sqrt(E)\n",
    " A.append(int(Formula_Q))\n",
    "print(A)"
   ]
  },
  {
   "cell_type": "markdown",
   "id": "ba16783d-3ce8-458d-8fca-28e08e152cb7",
   "metadata": {
    "tags": []
   },
   "source": [
    "## Q7: Write a program which takes 2 digits, X,Y as input and generates a 2-dimensional array. The element value in the i-th row and j-th column of the array should be i*j. Note: i=0,1.., X-1; j=0,1,¡­Y-1. Example Suppose the following inputs are given to the program: 3,5 Then, the output of the program should be: [[0, 0, 0, 0, 0], [0, 1, 2, 3, 4], [0, 2, 4, 6, 8]]"
   ]
  },
  {
   "cell_type": "code",
   "execution_count": null,
   "id": "325c0f78-1ddf-4961-9689-5f0d1cd6a4c2",
   "metadata": {},
   "outputs": [],
   "source": [
    "import numpy\n"
   ]
  },
  {
   "cell_type": "markdown",
   "id": "6441485a-46cc-4785-a60e-a29683674e60",
   "metadata": {},
   "source": [
    "## Q8: Write a program that accepts a comma separated sequence of words as input and prints the words in a comma-separated sequence after sorting them alphabetically. Suppose the following input is supplied to the program: without,hello,bag,world Then, the output should be: bag,hello,without,world"
   ]
  },
  {
   "cell_type": "code",
   "execution_count": 61,
   "id": "be63ce0e-80f6-4216-8e72-88fd8307f391",
   "metadata": {},
   "outputs": [
    {
     "name": "stdin",
     "output_type": "stream",
     "text": [
      "Please, input words without,hello,bag,world\n"
     ]
    },
    {
     "name": "stdout",
     "output_type": "stream",
     "text": [
      "bag,hello,without,world\n"
     ]
    }
   ],
   "source": [
    "a = input(\"Please, input words\")\n",
    "b_list = a.split(',')\n",
    "b_list.sort()\n",
    "print(',' .join(b_list))"
   ]
  },
  {
   "cell_type": "markdown",
   "id": "42d20fa6-82a1-4fe2-856a-d29b5318933a",
   "metadata": {},
   "source": [
    "## Q9: Write a program that accepts sequence of lines as input and prints the lines after making all characters in the sentence capitalized. Suppose the following input is supplied to the program: Hello world Practice makes perfect Then, the output should be: HELLO WORLD PRACTICE MAKES PERFECT"
   ]
  },
  {
   "cell_type": "code",
   "execution_count": 112,
   "id": "64ad2a2f-848f-4c7e-936a-c2964a60f2f2",
   "metadata": {},
   "outputs": [
    {
     "name": "stdin",
     "output_type": "stream",
     "text": [
      "Please, input words Hello world Practice makes perfect\n"
     ]
    },
    {
     "name": "stdout",
     "output_type": "stream",
     "text": [
      "HELLO WORLD PRACTICE MAKES PERFECT\n"
     ]
    }
   ],
   "source": [
    "lines = []\n",
    "b = str(input(\"Please, input words\"))\n",
    "if b:\n",
    "    lines.append(b)\n",
    "    \n",
    "for a in lines:\n",
    "    print(a.upper())"
   ]
  },
  {
   "cell_type": "markdown",
   "id": "46769f88-42e9-4fa1-9b9f-38b432f8a96d",
   "metadata": {},
   "source": [
    "## Q10: Write a program that accepts a sequence of whitespace separated words as input and prints the words after removing all duplicate words and sorting them alphanumerically. Suppose the following input is supplied to the program: hello world and practice makes perfect and hello world again Then, the output should be: again and hello makes perfect practice world"
   ]
  },
  {
   "cell_type": "code",
   "execution_count": 119,
   "id": "9fa6fa33-e7b7-41d3-953b-18a09fdd523a",
   "metadata": {},
   "outputs": [
    {
     "name": "stdin",
     "output_type": "stream",
     "text": [
      " hello world and practice makes perfect and hello world again\n"
     ]
    },
    {
     "name": "stdout",
     "output_type": "stream",
     "text": [
      "again and hello makes perfect practice world\n"
     ]
    }
   ],
   "source": [
    "a = input().split(' ')\n",
    "b=[]\n",
    "for c in a:\n",
    "    if c not in b:\n",
    "        b.append(c)\n",
    "    else:\n",
    "        continue\n",
    "b.sort()\n",
    "print(\" \" .join(b))\n",
    "        "
   ]
  },
  {
   "cell_type": "markdown",
   "id": "0ff2c324-2b18-413d-9637-d30b63dd35bf",
   "metadata": {},
   "source": [
    "## Q11: Define a class, which have a class parameter and have a same instance parameter.\n"
   ]
  },
  {
   "cell_type": "code",
   "execution_count": 48,
   "id": "f70868a4-028a-47b6-bafc-9578e7d01c99",
   "metadata": {},
   "outputs": [
    {
     "name": "stdout",
     "output_type": "stream",
     "text": [
      "Car is mustang and power is 400\n"
     ]
    }
   ],
   "source": [
    "class CAR(object):\n",
    "    brand = \"CAR\"\n",
    "    def __init__(self, brand):\n",
    "         self.brand = brand\n",
    "    def CAR(self, power):\n",
    "         self.power = power\n",
    "mustang = CAR(\"mustang\")\n",
    "mustang.power = 400\n",
    "print(\"Car is %s and power is %s\" % (mustang.brand, mustang.power))"
   ]
  },
  {
   "cell_type": "markdown",
   "id": "7e5b9e1b-f625-4b6b-b7e2-d71bf4795cff",
   "metadata": {},
   "source": [
    "## Q12: Define a function which can generate a dictionary where the keys are numbers between 1 and 20 (both included) and the values are square of keys. The function should just print the values only."
   ]
  },
  {
   "cell_type": "code",
   "execution_count": 78,
   "id": "44045553-fdcb-4a5b-89cd-aea612d47a58",
   "metadata": {},
   "outputs": [
    {
     "name": "stdout",
     "output_type": "stream",
     "text": [
      "dict_values([1, 4, 9, 16, 25, 36, 49, 64, 81, 100, 121, 144, 169, 196, 225, 256, 289, 324, 361, 400])\n"
     ]
    }
   ],
   "source": [
    "def printnumber():\n",
    "    square = {}\n",
    "    for i in range(1,21):\n",
    "        square[i]=i*i\n",
    "        \n",
    "    print(square.values())\n",
    "    \n",
    "printnumber()\n",
    "\n",
    "    "
   ]
  },
  {
   "cell_type": "markdown",
   "id": "39f0c8f5-0a2f-44e5-bd72-383e15b97f47",
   "metadata": {},
   "source": [
    "## Q13: Define a function which can generate a dictionary where the keys are numbers between 1 and 20 (both included) and the values are square of keys. The function should just print the keys only."
   ]
  },
  {
   "cell_type": "code",
   "execution_count": 79,
   "id": "e5a71c03-09ed-495d-a5fd-be6a7a350498",
   "metadata": {},
   "outputs": [
    {
     "name": "stdout",
     "output_type": "stream",
     "text": [
      "dict_keys([1, 2, 3, 4, 5, 6, 7, 8, 9, 10, 11, 12, 13, 14, 15, 16, 17, 18, 19, 20])\n"
     ]
    }
   ],
   "source": [
    "def printnumber():\n",
    "    square = {}\n",
    "    for i in range(1,21):\n",
    "        square[i]=i*i\n",
    "        \n",
    "    print(square.keys())\n",
    "    \n",
    "printnumber()"
   ]
  },
  {
   "cell_type": "markdown",
   "id": "8c078ad1-59f8-4178-8f45-656bd1a9ae71",
   "metadata": {},
   "source": [
    "## Q14: Define a function which can generate a list where the values are square of numbers between 1 and 20 (both included). Then the function needs to print the first 5 elements in the list."
   ]
  },
  {
   "cell_type": "code",
   "execution_count": 83,
   "id": "293e3d7c-1a49-4224-9640-a89443c401ff",
   "metadata": {},
   "outputs": [
    {
     "name": "stdout",
     "output_type": "stream",
     "text": [
      "[1, 4, 9, 16]\n"
     ]
    }
   ],
   "source": [
    "def printlist():\n",
    "    a = []\n",
    "    for i in range(1,21):\n",
    "        a.append(i*i)\n",
    "    print(a[:4])\n",
    "\n",
    "printlist()"
   ]
  },
  {
   "cell_type": "markdown",
   "id": "f34c96d6-48eb-4ebb-9acb-5a159448b037",
   "metadata": {},
   "source": [
    "## Q15: Write a program to generate and print another tuple whose values are even numbers in the given tuple (1,2,3,4,5,6,7,8,9,10)."
   ]
  },
  {
   "cell_type": "code",
   "execution_count": 91,
   "id": "4d5f7502-bd53-43a6-b264-20666a5d57eb",
   "metadata": {},
   "outputs": [
    {
     "name": "stdout",
     "output_type": "stream",
     "text": [
      "(2, 4, 6, 8, 10)\n"
     ]
    }
   ],
   "source": [
    "a = (1,2,3,4,5,6,7,8,9,10)\n",
    "b = []\n",
    "for i in a: \n",
    "    if int(i)%2 == 0:\n",
    "        b.append(i)\n",
    "c=tuple(b)\n",
    "print(c)"
   ]
  },
  {
   "cell_type": "markdown",
   "id": "dc6cc8c1-59c4-4714-abe9-5b6c8caf063c",
   "metadata": {},
   "source": [
    "## Q16: Define a class named American and its subclass NewYorker"
   ]
  },
  {
   "cell_type": "code",
   "execution_count": 93,
   "id": "de91aebd-4692-4bdb-993a-b4ba95d90947",
   "metadata": {},
   "outputs": [
    {
     "name": "stdout",
     "output_type": "stream",
     "text": [
      "<__main__.American object at 0x7f2858847f10>\n",
      "<__main__.NewYorker object at 0x7f2858847b20>\n"
     ]
    }
   ],
   "source": [
    "class American(object):\n",
    "      pass\n",
    "class NewYorker(American):\n",
    "      pass\n",
    "    \n",
    "oneAmerican = American()\n",
    "oneNewYorker = NewYorker()\n",
    "print(oneAmerican)\n",
    "print(oneNewYorker)"
   ]
  },
  {
   "cell_type": "markdown",
   "id": "312134ca-e150-4c73-bc86-bde63e490b94",
   "metadata": {},
   "source": [
    "## Q17: Define a class named Rectangle which can be constructed by a length and width. The Rectangle class has a method which can compute the area."
   ]
  },
  {
   "cell_type": "code",
   "execution_count": 8,
   "id": "f399f421-ecaf-4243-b4a8-e17e346c259e",
   "metadata": {},
   "outputs": [
    {
     "name": "stdout",
     "output_type": "stream",
     "text": [
      "24\n"
     ]
    }
   ],
   "source": [
    "class Rectangle(object):\n",
    "    \n",
    "    def __init__(self, length, width):\n",
    "        self.length = length\n",
    "        self.width = width\n",
    "        \n",
    "    def dim(self):\n",
    "         return self.length*self.width\n",
    "          \n",
    "            \n",
    "aRectangle = Rectangle(4,6)\n",
    "print(aRectangle.dim())\n"
   ]
  },
  {
   "cell_type": "markdown",
   "id": "8cd2be2a-24a8-404c-a602-22df56fdd16d",
   "metadata": {},
   "source": [
    "## Q18: Define a class named Shape and its subclass Square. The Square class has an init function which takes a length as argument. Both classes have a area function which can print the area of the shape where Shape's area is 0 by default."
   ]
  },
  {
   "cell_type": "code",
   "execution_count": 9,
   "id": "460b2889-a649-49ae-a738-d6c8f7dde5be",
   "metadata": {},
   "outputs": [
    {
     "name": "stdout",
     "output_type": "stream",
     "text": [
      "25\n"
     ]
    }
   ],
   "source": [
    "class Shape(object):\n",
    "    \n",
    "    def _init__(self, area):\n",
    "        self.area = 0\n",
    "        \n",
    "class Square(Shape):\n",
    "    \n",
    "    def __init__(self, length):\n",
    "        self.length = length\n",
    "        \n",
    "    def a(self):\n",
    "        \n",
    "        return self.length*self.length\n",
    "        \n",
    "        \n",
    "aSquare = Square(5)\n",
    "print (aSquare.a())"
   ]
  },
  {
   "cell_type": "markdown",
   "id": "b37217f9-f80b-44e4-8385-f0344e4e8b28",
   "metadata": {},
   "source": [
    "## Q19: Write a function to compute 5/0 and use try/except to catch the exceptions."
   ]
  },
  {
   "cell_type": "code",
   "execution_count": 16,
   "id": "1ba5a532-9f5e-41f0-838e-904c06482074",
   "metadata": {},
   "outputs": [],
   "source": [
    "def calculation():\n",
    "    return 5/0\n",
    "\n",
    "    try:\n",
    "        calculation()\n",
    "    \n",
    "    except TypeErr():\n",
    "          print(\"Type is Error\")\n",
    "\n"
   ]
  },
  {
   "cell_type": "markdown",
   "id": "6ab8e65c-ce5e-4ede-a283-e36144a9deaa",
   "metadata": {},
   "source": [
    "## Q20: With a given list [12,24,35,24,88,120,155,88,120,155], write a program to print this list after removing all duplicate values with original order reserved."
   ]
  },
  {
   "cell_type": "code",
   "execution_count": 155,
   "id": "aed5db24-74d0-46f5-b6b5-998eaccbac88",
   "metadata": {},
   "outputs": [
    {
     "name": "stdout",
     "output_type": "stream",
     "text": [
      "[12, 24, 35, 88, 120, 155]\n"
     ]
    }
   ],
   "source": [
    "a = [12,24,35,24,88,120,155,88,120,155]\n",
    "b = []\n",
    "for i in a:\n",
    "    if i not in b:\n",
    "         b.append(i)\n",
    "print(b)"
   ]
  },
  {
   "cell_type": "markdown",
   "id": "9ea95a8f-56b9-4979-aac6-04c41baf49d1",
   "metadata": {},
   "source": [
    "## Q21: Write a program which accepts a sequence of comma separated 4 digit binary numbers as its input and then check whether they are divisible by 5 or not. The numbers that are divisible by 5 are to be printed in a comma separated sequence. Example: 0100,0011,1010,1001 Then the output should be: 1010 Notes: Assume the data is input by console."
   ]
  },
  {
   "cell_type": "code",
   "execution_count": 130,
   "id": "505d2669-af65-4e24-8812-461c06681b8d",
   "metadata": {},
   "outputs": [
    {
     "name": "stdin",
     "output_type": "stream",
     "text": [
      " 0100,0011,1010,1001\n"
     ]
    },
    {
     "name": "stdout",
     "output_type": "stream",
     "text": [
      "0100,1010\n"
     ]
    }
   ],
   "source": [
    "a = input().split(',')\n",
    "b=[]\n",
    "for c in a:\n",
    "    if int(c) % 5==0:\n",
    "        b.append(c)\n",
    "    else:\n",
    "        continue\n",
    "print(',' .join(b))"
   ]
  },
  {
   "cell_type": "markdown",
   "id": "c74d6419-db28-4bda-a69f-f73a0e1c3746",
   "metadata": {},
   "source": [
    "## Q22: Write a program, which will find all such numbers between 1000 and 3000 (both included) such that each digit of the number is an even number. The numbers obtained should be printed in a comma-separated sequence on a single line."
   ]
  },
  {
   "cell_type": "code",
   "execution_count": 18,
   "id": "adebb6e3-9d0b-4807-9e4e-99ce68d83584",
   "metadata": {},
   "outputs": [
    {
     "name": "stdout",
     "output_type": "stream",
     "text": [
      "2000,2002,2004,2006,2008,2020,2022,2024,2026,2028,2040,2042,2044,2046,2048,2060,2062,2064,2066,2068,2080,2082,2084,2086,2088,2200,2202,2204,2206,2208,2220,2222,2224,2226,2228,2240,2242,2244,2246,2248,2260,2262,2264,2266,2268,2280,2282,2284,2286,2288,2400,2402,2404,2406,2408,2420,2422,2424,2426,2428,2440,2442,2444,2446,2448,2460,2462,2464,2466,2468,2480,2482,2484,2486,2488,2600,2602,2604,2606,2608,2620,2622,2624,2626,2628,2640,2642,2644,2646,2648,2660,2662,2664,2666,2668,2680,2682,2684,2686,2688,2800,2802,2804,2806,2808,2820,2822,2824,2826,2828,2840,2842,2844,2846,2848,2860,2862,2864,2866,2868,2880,2882,2884,2886,2888\n"
     ]
    }
   ],
   "source": [
    "a = []\n",
    "for b in range(1000,3001):\n",
    "    i = str(b)\n",
    "    if (int(i[0])%2==0) and (int(i[1])%2==0) and (int(i[2])%2==0) and (int(i[3])%2==0):\n",
    "        a.append(i)\n",
    "    else:\n",
    "        continue\n",
    "print(','.join(a))"
   ]
  },
  {
   "cell_type": "markdown",
   "id": "330d4ada-55b0-46e2-a927-e6c142c0f6c5",
   "metadata": {},
   "source": [
    "## Q23: Write a program that accepts a sentence and calculate the number of letters and digits. Suppose the following input is supplied to the program: hello world! 123 Then, the output should be: LETTERS 10 DIGITS 3"
   ]
  },
  {
   "cell_type": "code",
   "execution_count": 11,
   "id": "f35809b9-1eae-408c-84ce-809750d4f313",
   "metadata": {},
   "outputs": [
    {
     "name": "stdin",
     "output_type": "stream",
     "text": [
      " hello world! 123\n"
     ]
    },
    {
     "name": "stdout",
     "output_type": "stream",
     "text": [
      "LETTERS 10\n",
      "DIGIT 3\n"
     ]
    }
   ],
   "source": [
    "A = ['0','1','2','3','4','5','6','7','8','9']\n",
    "B = ['a','b','c','d','e','f','g','h','j','k','l','m','n','o','p','q','r','s','t','u','v','w','x','y','z']\n",
    "c = input()\n",
    "DIGIT = 0\n",
    "LETTER =0\n",
    "for i in c:\n",
    "    if i in A:\n",
    "        DIGIT += 1\n",
    "    if i in B:\n",
    "        LETTER += 1\n",
    "    else:\n",
    "        pass\n",
    "\n",
    "print(\"LETTERS\", LETTER)\n",
    "print(\"DIGIT\", DIGIT)\n"
   ]
  },
  {
   "cell_type": "markdown",
   "id": "3fe92eb0-266f-4bea-ae6c-b535e7810f1d",
   "metadata": {},
   "source": [
    "## Q24: Write a program that accepts a sentence and calculate the number of upper case letters and lower case letters. Suppose the following input is supplied to the program: Hello world! Then, the output should be: UPPER CASE 1 LOWER CASE 9"
   ]
  },
  {
   "cell_type": "code",
   "execution_count": 14,
   "id": "c53423e0-119e-4995-9caa-d351003f6266",
   "metadata": {},
   "outputs": [
    {
     "name": "stdin",
     "output_type": "stream",
     "text": [
      " Hello world!\n"
     ]
    },
    {
     "name": "stdout",
     "output_type": "stream",
     "text": [
      "UPPER CASE 1\n",
      "LOWER CASE 9\n"
     ]
    }
   ],
   "source": [
    "a = input()\n",
    "UPPER_CASE = 0\n",
    "LOWER_CASE = 0\n",
    "for i in a: \n",
    "    if  i.isupper():\n",
    "        UPPER_CASE +=1\n",
    "    if  i.islower():\n",
    "        LOWER_CASE +=1\n",
    "    else:\n",
    "        pass\n",
    "print(\"UPPER CASE\", UPPER_CASE)\n",
    "print(\"LOWER CASE\", LOWER_CASE)"
   ]
  },
  {
   "cell_type": "markdown",
   "id": "0bb77716-0d18-4c5c-837b-f71fda0945a8",
   "metadata": {},
   "source": [
    "## Q25: Write a program that computes the value of a+aa+aaa+aaaa with a given digit as the value of a. Suppose the following input is supplied to the program: 9 Then, the output should be: 11106"
   ]
  },
  {
   "cell_type": "code",
   "execution_count": 16,
   "id": "c1a84ee0-835e-4a6b-a78f-fb74e9157e65",
   "metadata": {},
   "outputs": [
    {
     "name": "stdin",
     "output_type": "stream",
     "text": [
      "a= 9\n"
     ]
    },
    {
     "name": "stdout",
     "output_type": "stream",
     "text": [
      "11106\n"
     ]
    }
   ],
   "source": [
    "b = int(input(\"a=\"))\n",
    "a = b \n",
    "aa = 10*b+a\n",
    "aaa = 100*b + aa\n",
    "aaaa = 1000*b + aaa\n",
    "c = a+aa+aaa+aaaa\n",
    "print(c)"
   ]
  },
  {
   "cell_type": "markdown",
   "id": "564c6a07-0c1a-405c-85b8-b0a0d9a5744f",
   "metadata": {},
   "source": [
    "## Q26: Use a list comprehension to square each odd number in a list. The list is input by a sequence of comma-separated numbers. Suppose the following input is supplied to the program: 1,2,3,4,5,6,7,8,9 Then, the output should be: 1,3,5,7,9"
   ]
  },
  {
   "cell_type": "code",
   "execution_count": 25,
   "id": "8bbd098e-60b7-4bed-81af-70539e2d325a",
   "metadata": {},
   "outputs": [
    {
     "name": "stdin",
     "output_type": "stream",
     "text": [
      " 1,2,3,4,5,6,7,8,9\n"
     ]
    },
    {
     "name": "stdout",
     "output_type": "stream",
     "text": [
      "1,3,5,7,9\n"
     ]
    }
   ],
   "source": [
    "a = input().split(',')\n",
    "b = []\n",
    "for i in a:\n",
    "    if int(i) %2!=0:\n",
    "        b.append(i)\n",
    "    else:\n",
    "        continue\n",
    "print(\",\".join(b))"
   ]
  }
 ],
 "metadata": {
  "kernelspec": {
   "display_name": "Python 3 (ipykernel)",
   "language": "python",
   "name": "python3"
  },
  "language_info": {
   "codemirror_mode": {
    "name": "ipython",
    "version": 3
   },
   "file_extension": ".py",
   "mimetype": "text/x-python",
   "name": "python",
   "nbconvert_exporter": "python",
   "pygments_lexer": "ipython3",
   "version": "3.8.13"
  }
 },
 "nbformat": 4,
 "nbformat_minor": 5
}
